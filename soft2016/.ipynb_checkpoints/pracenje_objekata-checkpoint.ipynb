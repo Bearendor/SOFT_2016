{
 "cells": [
  {
   "cell_type": "markdown",
   "metadata": {},
   "source": [
    "# Pracenje objekata i prebrojavanje - video"
   ]
  },
  {
   "cell_type": "code",
   "execution_count": 1,
   "metadata": {
    "collapsed": true
   },
   "outputs": [],
   "source": [
    "import sys\n",
    "sys.path.append('code/')\n",
    "import math\n",
    "import cv2\n",
    "import numpy as np\n",
    "from scipy import ndimage\n",
    "from vector import distance, pnt2line\n",
    "from matplotlib.pyplot import cm \n",
    "from PIL import Image\n",
    "import itertools\n",
    "import time"
   ]
  },
  {
   "cell_type": "code",
   "execution_count": 2,
   "metadata": {
    "collapsed": true
   },
   "outputs": [],
   "source": [
    "cc = -1\n",
    "def nextId():\n",
    "    global cc\n",
    "    cc += 1\n",
    "    cid = cc\n",
    "    return cid"
   ]
  },
  {
   "cell_type": "markdown",
   "metadata": {},
   "source": [
    "## Kako povezati objekte između frejmova"
   ]
  },
  {
   "cell_type": "code",
   "execution_count": 3,
   "metadata": {
    "collapsed": true
   },
   "outputs": [],
   "source": [
    "def inRange(r, item, items):\n",
    "    retVal = []\n",
    "    for obj in items:\n",
    "        mdist = distance(item['center'], obj['center'])\n",
    "        if(mdist<r):\n",
    "            retVal.append(obj)\n",
    "    return retVal"
   ]
  },
  {
   "cell_type": "markdown",
   "metadata": {},
   "source": [
    "<h3>Pronalazenje linije huovom metodom </h3>"
   ]
  },
  {
   "cell_type": "code",
   "execution_count": 4,
   "metadata": {},
   "outputs": [
    {
     "name": "stdout",
     "output_type": "stream",
     "text": [
      "640\n",
      "(480, 640, 3)\n",
      "(5, 1, 4)\n",
      "(47, 400) (448, 98)\n"
     ]
    }
   ],
   "source": [
    "cap = cv2.VideoCapture(\"videos/video-0.avi\")\n",
    "def findLine():\n",
    "    \n",
    "    flag, img = cap.read()\n",
    "    #plt.imshow(frame);\n",
    "    frameArray = np.asarray(img[:,:])\n",
    "    gray = cv2.cvtColor(img,cv2.COLOR_BGR2GRAY)\n",
    "    edges = cv2.Canny(gray,50,150,apertureSize = 3)\n",
    "    print(img.shape[1])\n",
    "    print(img.shape)\n",
    "    minLineLength=200\n",
    "    lines = cv2.HoughLinesP(image=edges,rho=1,theta=np.pi/180, threshold=10,lines=np.array([]), minLineLength=minLineLength,maxLineGap=20)\n",
    "\n",
    "    a,b,c = lines.shape\n",
    "    print(lines.shape)\n",
    "    for i in range(a):\n",
    "        cv2.line(img, (lines[i][0][0], lines[i][0][1]), (lines[i][0][2], lines[i][0][3]), (0, 0, 255), 3, cv2.LINE_AA)\n",
    "\n",
    "    return [(lines[0][0][0], lines[0][0][1]),(lines[0][0][2], lines[0][0][3])]\n",
    "\n",
    "#line = [(100,450), (500, 100)]\n",
    "line = findLine();\n",
    "print(str(line[0])+' '+str(line[1]))\n"
   ]
  },
  {
   "cell_type": "markdown",
   "metadata": {},
   "source": [
    "<h2> -------------------------------------- </h2>"
   ]
  },
  {
   "cell_type": "markdown",
   "metadata": {},
   "source": [
    "<h3> Neuronska mreza </h3>"
   ]
  },
  {
   "cell_type": "code",
   "execution_count": 5,
   "metadata": {
    "scrolled": true
   },
   "outputs": [
    {
     "name": "stderr",
     "output_type": "stream",
     "text": [
      "Using Theano backend.\n",
      "C:\\Users\\python\\Anaconda2\\lib\\site-packages\\keras\\engine\\topology.py:1242: UserWarning: Update your `Conv2D` call to the Keras 2 API: `Conv2D(trainable=True, filters=32, use_bias=True, bias_regularizer=None, input_dtype=\"float32\", batch_input_shape=[None, 28,..., activation=\"linear\", kernel_initializer=\"glorot_uniform\", kernel_constraint=None, activity_regularizer=None, padding=\"valid\", strides=[1, 1], name=\"convolution2d_1\", bias_constraint=None, data_format=\"channels_last\", kernel_regularizer=None, kernel_size=(3, 3))`\n",
      "  return cls(**config)\n",
      "C:\\Users\\python\\Anaconda2\\lib\\site-packages\\keras\\engine\\topology.py:1242: UserWarning: Update your `Conv2D` call to the Keras 2 API: `Conv2D(kernel_initializer=\"glorot_uniform\", kernel_constraint=None, activity_regularizer=None, trainable=True, padding=\"valid\", strides=[1, 1], filters=32, use_bias=True, name=\"convolution2d_2\", bias_regularizer=None, bias_constraint=None, data_format=\"channels_last\", kernel_regularizer=None, activation=\"linear\", kernel_size=(3, 3))`\n",
      "  return cls(**config)\n",
      "C:\\Users\\python\\Anaconda2\\lib\\site-packages\\keras\\engine\\topology.py:1242: UserWarning: Update your `MaxPooling2D` call to the Keras 2 API: `MaxPooling2D(name=\"maxpooling2d_1\", trainable=True, data_format=\"channels_last\", pool_size=[2, 2], padding=\"valid\", strides=[2, 2])`\n",
      "  return cls(**config)\n",
      "C:\\Users\\python\\Anaconda2\\lib\\site-packages\\keras\\engine\\topology.py:1242: UserWarning: Update your `Dropout` call to the Keras 2 API: `Dropout(rate=0.25, trainable=True, name=\"dropout_1\")`\n",
      "  return cls(**config)\n",
      "C:\\Users\\python\\Anaconda2\\lib\\site-packages\\keras\\engine\\topology.py:1242: UserWarning: Update your `Dense` call to the Keras 2 API: `Dense(name=\"dense_1\", bias_regularizer=None, bias_constraint=None, activity_regularizer=None, trainable=True, kernel_constraint=None, kernel_regularizer=None, input_dim=None, units=128, kernel_initializer=\"glorot_uniform\", use_bias=True, activation=\"linear\")`\n",
      "  return cls(**config)\n",
      "C:\\Users\\python\\Anaconda2\\lib\\site-packages\\keras\\engine\\topology.py:1242: UserWarning: Update your `Dropout` call to the Keras 2 API: `Dropout(rate=0.5, trainable=True, name=\"dropout_2\")`\n",
      "  return cls(**config)\n",
      "C:\\Users\\python\\Anaconda2\\lib\\site-packages\\keras\\engine\\topology.py:1242: UserWarning: Update your `Dense` call to the Keras 2 API: `Dense(name=\"dense_2\", bias_regularizer=None, bias_constraint=None, activity_regularizer=None, trainable=True, kernel_constraint=None, kernel_regularizer=None, input_dim=None, units=10, kernel_initializer=\"glorot_uniform\", use_bias=True, activation=\"linear\")`\n",
      "  return cls(**config)\n"
     ]
    }
   ],
   "source": [
    "'''Trains a simple convnet on the MNIST dataset.\n",
    "Gets to 99.25% test accuracy after 12 epochs\n",
    "(there is still a lot of margin for parameter tuning).\n",
    "16 seconds per epoch on a GRID K520 GPU.\n",
    "'''\n",
    "\n",
    "from __future__ import print_function\n",
    "import keras as keras\n",
    "from keras.datasets import mnist\n",
    "from keras.models import Sequential, load_model\n",
    "from keras.layers import Dense, Dropout, Activation, Flatten\n",
    "from keras.layers import Conv2D, MaxPooling2D\n",
    "from keras.utils import np_utils\n",
    "from keras import backend as K\n",
    "import numpy as np\n",
    "\n",
    "\n",
    "class Mnist():\n",
    "    def __init__(self):\n",
    "        self.mnist_model = load_model(\"cnn/minst_model.h5\")\n",
    "        self.mnist_model.load_weights(\"cnn/weights.h5\")\n",
    "\n",
    "    @staticmethod\n",
    "    def train(self):\n",
    "        batch_size = 128\n",
    "        nb_classes = 10\n",
    "        nb_epoch = 12\n",
    "\n",
    "        # input image dimensions\n",
    "        img_rows, img_cols = 28, 28\n",
    "        # number of convolutional filters to use\n",
    "        nb_filters = 32\n",
    "        # size of pooling area for max pooling\n",
    "        pool_size = (2, 2)\n",
    "        # convolution kernel size\n",
    "        kernel_size = (3, 3)\n",
    "\n",
    "        # the data, shuffled and split between train and test sets\n",
    "        (X_train, y_train), (X_test, y_test) = mnist.load_data()\n",
    "\n",
    "        if K.image_dim_ordering() == 'th':\n",
    "            X_train = X_train.reshape(X_train.shape[0], 1, img_rows, img_cols)\n",
    "            X_test = X_test.reshape(X_test.shape[0], 1, img_rows, img_cols)\n",
    "            input_shape = (1, img_rows, img_cols)\n",
    "        else:\n",
    "            X_train = X_train.reshape(X_train.shape[0], img_rows, img_cols, 1)\n",
    "            X_test = X_test.reshape(X_test.shape[0], img_rows, img_cols, 1)\n",
    "            input_shape = (img_rows, img_cols, 1)\n",
    "\n",
    "        X_train = X_train.astype('float32')\n",
    "        X_test = X_test.astype('float32')\n",
    "        X_train /= 255\n",
    "        X_test /= 255\n",
    "        print('X_train shape:', X_train.shape)\n",
    "        print(X_train.shape[0], 'train samples')\n",
    "        print(X_test.shape[0], 'test samples')\n",
    "\n",
    "        # convert class vectors to binary class matrices\n",
    "        Y_train = np_utils.to_categorical(y_train, nb_classes)\n",
    "        Y_test = np_utils.to_categorical(y_test, nb_classes)\n",
    "\n",
    "        model = Sequential()\n",
    "\n",
    "        model.add(Conv2D(nb_filters, kernel_size[0], kernel_size[1],\n",
    "                                border_mode='valid',\n",
    "                                input_shape=input_shape))\n",
    "        model.add(Activation('relu'))\n",
    "        model.add(Conv2D(nb_filters, kernel_size[0], kernel_size[1]))\n",
    "        model.add(Activation('relu'))\n",
    "        model.add(MaxPooling2D(pool_size=pool_size))\n",
    "        model.add(Dropout(0.25))\n",
    "\n",
    "        model.add(Flatten())\n",
    "        model.add(Dense(128))\n",
    "        model.add(Activation('relu'))\n",
    "        model.add(Dropout(0.5))\n",
    "        model.add(Dense(nb_classes))\n",
    "        model.add(Activation('softmax'))\n",
    "\n",
    "        model.compile(loss='categorical_crossentropy',\n",
    "                      optimizer='adadelta',\n",
    "                      metrics=['accuracy'])\n",
    "\n",
    "        model.fit(X_train, Y_train, batch_size=batch_size, nb_epoch=nb_epoch,\n",
    "                  verbose=1, validation_data=(X_test, Y_test))\n",
    "        score = model.evaluate(X_test, Y_test, verbose=0)\n",
    "        print('Test score:', score[0])\n",
    "        print('Test accuracy:', score[1])\n",
    "\n",
    "        model.save_weights(\"weights.h5\")\n",
    "        model.save(\"minst_model.h5\")\n",
    "\n",
    "    def predict_number(self, img):\n",
    "        img = img.astype('float32')\n",
    "        img /= 255\n",
    "        result = self.mnist_model.predict(img.reshape(1, 28, 28, 1))\n",
    "        index = np.argmax(result)\n",
    "        return index\n",
    "\n",
    "\n",
    "m = Mnist()\n"
   ]
  },
  {
   "cell_type": "markdown",
   "metadata": {},
   "source": [
    "<h2> -------------------------------------- </h2>"
   ]
  },
  {
   "cell_type": "markdown",
   "metadata": {},
   "source": [
    "<h3> Filtriranje boja </h3>"
   ]
  },
  {
   "cell_type": "code",
   "execution_count": 6,
   "metadata": {
    "collapsed": true
   },
   "outputs": [],
   "source": [
    "# color filter\n",
    "kernel = np.ones((2,2),np.uint8)\n",
    "lower = np.array([230, 230, 230])\n",
    "upper = np.array([255, 255, 255])\n",
    "\n",
    "#boundaries = [\n",
    "#    ([230, 230, 230], [255, 255, 255])\n",
    "#]\n"
   ]
  },
  {
   "cell_type": "code",
   "execution_count": 7,
   "metadata": {
    "collapsed": true
   },
   "outputs": [],
   "source": [
    "fourcc = cv2.VideoWriter_fourcc(*'XVID')\n",
    "#fourcc = cv2.cv.CV_FOURCC(*'XVID')\n",
    "#out = cv2.VideoWriter('images/output-rezB.avi',fourcc, 20.0, (640,480))\n",
    "\n",
    "elements = []\n",
    "t =0\n",
    "counter = 0\n",
    "suma = 0 \n",
    "times = []"
   ]
  },
  {
   "cell_type": "code",
   "execution_count": 8,
   "metadata": {
    "scrolled": true
   },
   "outputs": [
    {
     "name": "stdout",
     "output_type": "stream",
     "text": [
      "Suma: 5\n",
      "Suma: 7\n",
      "Suma: 7\n",
      "Suma: 15\n",
      "Suma: 24\n",
      "Suma: 24\n",
      "Suma: 30\n",
      "Suma: 38\n",
      "Suma: 38\n",
      "Suma: 40\n",
      "Suma: 42\n",
      "Suma: 50\n"
     ]
    },
    {
     "ename": "error",
     "evalue": "C:\\builds\\master_PackSlaveAddon-win32-vc12-static\\opencv\\modules\\core\\src\\arithm.cpp:5696: error: (-209) The lower bounary is neither an array of the same size and same type as src, nor a scalar in function cv::inRange\n",
     "output_type": "error",
     "traceback": [
      "\u001b[1;31m---------------------------------------------------------------------------\u001b[0m",
      "\u001b[1;31merror\u001b[0m                                     Traceback (most recent call last)",
      "\u001b[1;32m<ipython-input-8-25697ec279b9>\u001b[0m in \u001b[0;36m<module>\u001b[1;34m()\u001b[0m\n\u001b[0;32m      7\u001b[0m     \u001b[0mlower\u001b[0m \u001b[1;33m=\u001b[0m \u001b[0mnp\u001b[0m\u001b[1;33m.\u001b[0m\u001b[0marray\u001b[0m\u001b[1;33m(\u001b[0m\u001b[0mlower\u001b[0m\u001b[1;33m,\u001b[0m \u001b[0mdtype\u001b[0m \u001b[1;33m=\u001b[0m \u001b[1;34m\"uint8\"\u001b[0m\u001b[1;33m)\u001b[0m\u001b[1;33m\u001b[0m\u001b[0m\n\u001b[0;32m      8\u001b[0m     \u001b[0mupper\u001b[0m \u001b[1;33m=\u001b[0m \u001b[0mnp\u001b[0m\u001b[1;33m.\u001b[0m\u001b[0marray\u001b[0m\u001b[1;33m(\u001b[0m\u001b[0mupper\u001b[0m\u001b[1;33m,\u001b[0m \u001b[0mdtype\u001b[0m \u001b[1;33m=\u001b[0m \u001b[1;34m\"uint8\"\u001b[0m\u001b[1;33m)\u001b[0m\u001b[1;33m\u001b[0m\u001b[0m\n\u001b[1;32m----> 9\u001b[1;33m     \u001b[0mmask\u001b[0m \u001b[1;33m=\u001b[0m \u001b[0mcv2\u001b[0m\u001b[1;33m.\u001b[0m\u001b[0minRange\u001b[0m\u001b[1;33m(\u001b[0m\u001b[0mimg\u001b[0m\u001b[1;33m,\u001b[0m \u001b[0mlower\u001b[0m\u001b[1;33m,\u001b[0m \u001b[0mupper\u001b[0m\u001b[1;33m)\u001b[0m\u001b[1;33m\u001b[0m\u001b[0m\n\u001b[0m\u001b[0;32m     10\u001b[0m     \u001b[0mimg0\u001b[0m \u001b[1;33m=\u001b[0m \u001b[1;36m1.0\u001b[0m\u001b[1;33m*\u001b[0m\u001b[0mmask\u001b[0m\u001b[1;33m\u001b[0m\u001b[0m\n\u001b[0;32m     11\u001b[0m     \u001b[0mimg0\u001b[0m \u001b[1;33m=\u001b[0m \u001b[0mcv2\u001b[0m\u001b[1;33m.\u001b[0m\u001b[0mdilate\u001b[0m\u001b[1;33m(\u001b[0m\u001b[0mimg0\u001b[0m\u001b[1;33m,\u001b[0m\u001b[0mkernel\u001b[0m\u001b[1;33m)\u001b[0m \u001b[1;31m#cv2.erode(img0,kernel)\u001b[0m\u001b[1;33m\u001b[0m\u001b[0m\n",
      "\u001b[1;31merror\u001b[0m: C:\\builds\\master_PackSlaveAddon-win32-vc12-static\\opencv\\modules\\core\\src\\arithm.cpp:5696: error: (-209) The lower bounary is neither an array of the same size and same type as src, nor a scalar in function cv::inRange\n"
     ]
    }
   ],
   "source": [
    "#region = 0\n",
    "while(1):\n",
    "    start_time = time.time()\n",
    "    ret, img = cap.read()\n",
    "    img = cv2.line(img ,line[0],line[1],(255,0,255),5)\n",
    "    \n",
    "    lower = np.array(lower, dtype = \"uint8\")\n",
    "    upper = np.array(upper, dtype = \"uint8\")\n",
    "    mask = cv2.inRange(img, lower, upper) \n",
    "    img0 = 1.0*mask   \n",
    "    img0 = cv2.dilate(img0,kernel) #cv2.erode(img0,kernel)\n",
    "    img0 = cv2.dilate(img0,kernel)\n",
    "    \n",
    "    \n",
    "    labeled, nr_objects = ndimage.label(img0)\n",
    "    objects = ndimage.find_objects(labeled)\n",
    "    for i in range(nr_objects):\n",
    "        loc = objects[i]\n",
    "        (xc,yc) = ((loc[1].stop + loc[1].start)/2,\n",
    "                   (loc[0].stop + loc[0].start)/2)\n",
    "        (dxc,dyc) = ((loc[1].stop - loc[1].start),\n",
    "                   (loc[0].stop - loc[0].start))\n",
    "\n",
    "        if(dxc>11 or dyc>11):\n",
    "            cv2.circle(img, (xc,yc), 16, (25, 25, 255), 1)\n",
    "            elem = {'center':(xc,yc), 'size':(dxc,dyc), 't':t}\n",
    "            # find in range\n",
    "            lst = inRange(20, elem, elements)\n",
    "            nn = len(lst)\n",
    "            if nn == 0:\n",
    "                elem['id'] = nextId()\n",
    "                elem['t'] = t\n",
    "                elem['pass'] = False\n",
    "                elem['history'] = [{'center':(xc,yc), 'size':(dxc,dyc), 't':t}]\n",
    "                elem['future'] = [] \n",
    "                elements.append(elem)\n",
    "            elif nn == 1:\n",
    "                lst[0]['center'] = elem['center']\n",
    "                lst[0]['t'] = t\n",
    "                lst[0]['history'].append({'center':(xc,yc), 'size':(dxc,dyc), 't':t}) \n",
    "                lst[0]['future'] = [] \n",
    "                        \n",
    "    for el in elements:\n",
    "        tt = t - el['t']\n",
    "        if(tt<3):\n",
    "            dist, pnt, r = pnt2line(el['center'], line[0], line[1])\n",
    "            if r>0:\n",
    "                cv2.line(img, pnt, el['center'], (0, 255, 25), 1)\n",
    "                c = (25, 25, 255)\n",
    "                if(dist<9):\n",
    "                    c = (0, 255, 160)\n",
    "                    if el['pass'] == False:\n",
    "                        el['pass'] = True\n",
    "                        hor = el['center'][0]\n",
    "                        ver = el['center'][1] \n",
    "                        region = img0[ver - 14: ver + 14, hor - 14 + 2: hor + 14 +2]\n",
    "                        suma += m.predict_number(region)\n",
    "                        print('Suma: '+ str(suma))\n",
    "                        counter += 1\n",
    "\n",
    "            id = el['id']\n",
    "            cv2.putText(img, str(el['id']), \n",
    "                (el['center'][0]+10, el['center'][1]+10), \n",
    "                cv2.FONT_HERSHEY_SIMPLEX, 1, 255)\n",
    "            for hist in el['history']:\n",
    "                ttt = t-hist['t']\n",
    "                if(ttt<100):\n",
    "                    cv2.circle(img, hist['center'], 1, (0, 255, 255), 1)\n",
    "\n",
    "            for fu in el['future']:\n",
    "                ttt = fu[0]-t\n",
    "                if(ttt<100):\n",
    "                    cv2.circle(img, (fu[1], fu[2]), 1, (255, 255, 0), 1)\n",
    "\n",
    "    elapsed_time = time.time() - start_time\n",
    "    times.append(elapsed_time*1000)\n",
    "    cv2.putText(img, 'Brojac: '+str(counter), (400, 400), cv2.FONT_HERSHEY_SIMPLEX, 1,(90,90,255),2)    \n",
    "    cv2.putText(img, 'Suma: '+str(suma), (400, 450), cv2.FONT_HERSHEY_SIMPLEX, 1,(110, 110,255),2) \n",
    "    #print nr_objects\n",
    "    t += 1\n",
    "    #if t%10==0:\n",
    "    #    print(t)\n",
    "    cv2.imshow('frame', img)\n",
    "    k = cv2.waitKey(30) & 0xff\n",
    "    if k == 27:\n",
    "        break\n",
    "    out.write(img)\n",
    "out.release()        \n",
    "cap.release()\n",
    "cv2.destroyAllWindows()\n",
    "\n",
    "et = np.array(times)\n"
   ]
  },
  {
   "cell_type": "code",
   "execution_count": null,
   "metadata": {
    "collapsed": true
   },
   "outputs": [],
   "source": []
  },
  {
   "cell_type": "code",
   "execution_count": null,
   "metadata": {
    "collapsed": true
   },
   "outputs": [],
   "source": []
  }
 ],
 "metadata": {
  "anaconda-cloud": {},
  "kernelspec": {
   "display_name": "Python 2",
   "language": "python",
   "name": "python2"
  },
  "language_info": {
   "codemirror_mode": {
    "name": "ipython",
    "version": 2
   },
   "file_extension": ".py",
   "mimetype": "text/x-python",
   "name": "python",
   "nbconvert_exporter": "python",
   "pygments_lexer": "ipython2",
   "version": "2.7.13"
  }
 },
 "nbformat": 4,
 "nbformat_minor": 1
}
